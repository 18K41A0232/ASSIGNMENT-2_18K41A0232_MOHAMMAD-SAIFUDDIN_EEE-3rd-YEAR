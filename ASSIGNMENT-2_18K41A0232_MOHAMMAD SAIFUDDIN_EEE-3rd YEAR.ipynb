{
 "cells": [
  {
   "cell_type": "markdown",
   "metadata": {},
   "source": [
    "1. Area of Triangle : Given, the lengths of three sides of a triangle, calculate the area of the triangle."
   ]
  },
  {
   "cell_type": "code",
   "execution_count": 1,
   "metadata": {},
   "outputs": [
    {
     "name": "stdin",
     "output_type": "stream",
     "text": [
      "Enter the first side :  2\n",
      "Enter the second side :  3\n",
      "Enter the third side :  4\n"
     ]
    },
    {
     "name": "stdout",
     "output_type": "stream",
     "text": [
      "The area of the triangle is 2.9047375096555625\n"
     ]
    }
   ],
   "source": [
    "A = float(input('Enter the first side : '))\n",
    "B = float(input('Enter the second side : '))\n",
    "C = float(input('Enter the third side : '))\n",
    "S = (A+B+C)/2\n",
    "a = (S*(S-A)*(S-B)*(S-C)) ** 0.5\n",
    "print('The area of the triangle is',a)"
   ]
  },
  {
   "cell_type": "markdown",
   "metadata": {},
   "source": [
    "2. Take a string from end user and check if the value is palindrome or not."
   ]
  },
  {
   "cell_type": "code",
   "execution_count": 2,
   "metadata": {},
   "outputs": [
    {
     "name": "stdin",
     "output_type": "stream",
     "text": [
      "enter a string :  did\n"
     ]
    },
    {
     "name": "stdout",
     "output_type": "stream",
     "text": [
      "string is a palindrome\n"
     ]
    }
   ],
   "source": [
    "a = input('enter a string : ')\n",
    "b = a[::-1]\n",
    "if a==b:\n",
    "  print(\"string is a palindrome\")\n",
    "else:\n",
    "  print(\"string is a not palindrome\")"
   ]
  },
  {
   "cell_type": "markdown",
   "metadata": {},
   "source": [
    "3. Write a program that reads a year from the user and displays a message Indicating whether or not it is a leap year."
   ]
  },
  {
   "cell_type": "code",
   "execution_count": 3,
   "metadata": {},
   "outputs": [
    {
     "name": "stdin",
     "output_type": "stream",
     "text": [
      "enter year you want to check :  2004\n"
     ]
    },
    {
     "name": "stdout",
     "output_type": "stream",
     "text": [
      "2004 is a leap year\n"
     ]
    }
   ],
   "source": [
    "y = int(input('enter year you want to check : '))\n",
    "if y%4==0:\n",
    "  print(y,'is a leap year')\n",
    "else:\n",
    "  print(y,'is not a leap year')"
   ]
  },
  {
   "cell_type": "markdown",
   "metadata": {},
   "source": [
    "4. Take a string as input, and replaces spaces “ “ with hyphens “-”, and returns a string."
   ]
  },
  {
   "cell_type": "code",
   "execution_count": 4,
   "metadata": {},
   "outputs": [
    {
     "name": "stdin",
     "output_type": "stream",
     "text": [
      "Enter any string : i am studying in sru\n"
     ]
    },
    {
     "name": "stdout",
     "output_type": "stream",
     "text": [
      "string after replacing space with hyphen is =  i-am-studying-in-sru\n"
     ]
    }
   ],
   "source": [
    "st = input(\"Enter any string :\")\n",
    "st = st.replace(' ','-')\n",
    "print(\"string after replacing space with hyphen is = \",st)"
   ]
  },
  {
   "cell_type": "markdown",
   "metadata": {},
   "source": [
    "5. Take a string as input that accepts a comma separated sequence of words as input and prints the unique words in sorted form (alphanumerically)."
   ]
  },
  {
   "cell_type": "code",
   "execution_count": 5,
   "metadata": {},
   "outputs": [
    {
     "name": "stdin",
     "output_type": "stream",
     "text": [
      "enter list of words with commas :  akhil,santhosh,manoj,venkatesh,ganesh,sai\n"
     ]
    },
    {
     "name": "stdout",
     "output_type": "stream",
     "text": [
      "alphanumerically sorted string is :\n",
      "akhil,ganesh,manoj,sai,santhosh,venkatesh\n"
     ]
    }
   ],
   "source": [
    "s = input(\"enter list of words with commas : \")\n",
    "k = [k for k in s.split(\",\")]\n",
    "print('alphanumerically sorted string is :')\n",
    "print(\",\".join(sorted(list(set(k)))))"
   ]
  },
  {
   "cell_type": "markdown",
   "metadata": {},
   "source": [
    "6. Tax Calculator Ask the user for their monthly salary. Calculate whether they have to pay tax and if so, how much is that amount. Print the result."
   ]
  },
  {
   "cell_type": "code",
   "execution_count": 6,
   "metadata": {},
   "outputs": [
    {
     "name": "stdin",
     "output_type": "stream",
     "text": [
      "please enter your salary :  259000\n"
     ]
    },
    {
     "name": "stdout",
     "output_type": "stream",
     "text": [
      "your tax payablee is 12950.0\n"
     ]
    }
   ],
   "source": [
    "t = {1:0,2:0.05,3:0.1,4:0.15,5:0.2,6:0.25,7:0.3}\n",
    "sa = int(input('please enter your salary : '))\n",
    "if sa<250000:\n",
    "  i=1\n",
    "elif 250001<sa<500000:\n",
    "  i=2\n",
    "elif 500001<sa<750000:\n",
    "  i=3\n",
    "elif 750001<sa<1000000:\n",
    "  i=4\n",
    "elif 1000001<sa<1250000:\n",
    "  i=5\n",
    "elif 1250001<sa<1500000:\n",
    "  i=6\n",
    "else:\n",
    "  i=7\n",
    "sa = sa*t[i]\n",
    "print(\"your tax payablee is\", sa)"
   ]
  },
  {
   "cell_type": "markdown",
   "metadata": {},
   "source": [
    "7. Take a list of integers as an argument, and converts it into a single integer (return the integer)."
   ]
  },
  {
   "cell_type": "code",
   "execution_count": 7,
   "metadata": {},
   "outputs": [
    {
     "name": "stdin",
     "output_type": "stream",
     "text": [
      "Enter number of elements : 5\n"
     ]
    },
    {
     "name": "stdout",
     "output_type": "stream",
     "text": [
      "enter elements :\n"
     ]
    },
    {
     "name": "stdin",
     "output_type": "stream",
     "text": [
      " 12\n",
      " 5\n",
      " 567\n",
      " 87\n",
      " 54\n"
     ]
    },
    {
     "name": "stdout",
     "output_type": "stream",
     "text": [
      "list of integers entered is [12, 5, 567, 87, 54]\n",
      "the list as single integer is :  1255678754\n"
     ]
    }
   ],
   "source": [
    "s = []\n",
    "n = int(input('Enter number of elements :')) \n",
    "print('enter elements :')\n",
    "for i in range(0, n): \n",
    "    e = int(input()) \n",
    "    s.append(e)\n",
    "print('list of integers entered is',s)\n",
    "k = i=0\n",
    "for n in s:\n",
    "  x = n\n",
    "  x = str(x)\n",
    "  l = len(x)\n",
    "  k = n+k*10**l\n",
    "  i+=1\n",
    "print('the list as single integer is : ',k)"
   ]
  },
  {
   "cell_type": "markdown",
   "metadata": {},
   "source": [
    "8. Create a program that reads duration from the user as a number of days, hours, minutes, and seconds. Compute and display the total number of seconds represented by this duration."
   ]
  },
  {
   "cell_type": "code",
   "execution_count": 8,
   "metadata": {},
   "outputs": [
    {
     "name": "stdin",
     "output_type": "stream",
     "text": [
      "enter number of days:   2\n",
      "enter number of hours:   5\n",
      "enter number of minutes:   30\n",
      "enter number of seconds:   45\n"
     ]
    },
    {
     "name": "stdout",
     "output_type": "stream",
     "text": [
      "total number of seconds are:   192645\n"
     ]
    }
   ],
   "source": [
    "d = int(input('enter number of days:  '))\n",
    "h = int(input('enter number of hours:  '))\n",
    "m = int(input('enter number of minutes:  '))\n",
    "s = int(input('enter number of seconds:  '))\n",
    "print('total number of seconds are:  ',d*86400+h*3600+m*60+s)"
   ]
  },
  {
   "cell_type": "markdown",
   "metadata": {},
   "source": [
    "9. Given three integers (given through user input), sort the numbers using |min| and |max| functions."
   ]
  },
  {
   "cell_type": "code",
   "execution_count": 9,
   "metadata": {},
   "outputs": [
    {
     "name": "stdin",
     "output_type": "stream",
     "text": [
      "enter first number:  9\n",
      "enter second number:  34\n",
      "enter third number:  5\n"
     ]
    },
    {
     "name": "stdout",
     "output_type": "stream",
     "text": [
      "the numbers are shorted in order of:  5 9 34\n"
     ]
    }
   ],
   "source": [
    "a = int(input('enter first number: '))\n",
    "b = int(input('enter second number: '))\n",
    "c = int(input('enter third number: '))\n",
    "ma = max(a,b,c)\n",
    "mi = min(a,b,c)\n",
    "print('the numbers are shorted in order of: ',mi,a+b+c-(ma+mi),ma)"
   ]
  },
  {
   "cell_type": "markdown",
   "metadata": {},
   "source": [
    "10. Write a program that reads a date from the user and computes its immediate successor. The date is the format YYYY-MM-DD. So, 2020-04-15 will have the successor 2020-04-16."
   ]
  },
  {
   "cell_type": "code",
   "execution_count": 10,
   "metadata": {},
   "outputs": [
    {
     "name": "stdin",
     "output_type": "stream",
     "text": [
      "enter a year:  2020\n",
      "Input a month [1-12]:  04\n",
      "Input a day [1-31]:  15\n"
     ]
    },
    {
     "name": "stdout",
     "output_type": "stream",
     "text": [
      "The next date :   2020 4 16\n"
     ]
    }
   ],
   "source": [
    "y = int(input(\"enter a year: \"))\n",
    "m = int(input(\"Input a month [1-12]: \"))\n",
    "d = int(input(\"Input a day [1-31]: \"))\n",
    "if (y%4 == 0):\n",
    "  ly = True\n",
    "else:\n",
    "  ly = False\n",
    "if m in (1, 3, 5, 7, 8, 10, 12):\n",
    "  ml = 31\n",
    "elif m == 2:\n",
    "    if ly:\n",
    "        ml = 29\n",
    "    else:\n",
    "        ml = 28\n",
    "else:\n",
    "    ml = 30\n",
    "if d < ml:\n",
    "    d+= 1\n",
    "else:\n",
    "    d=1\n",
    "    if m == 12:\n",
    "        m = 1\n",
    "        y+= 1\n",
    "    else:\n",
    "        m+= 1\n",
    "print(\"The next date :  \",y,m,d)"
   ]
  },
  {
   "cell_type": "markdown",
   "metadata": {},
   "source": [
    "11. Compute product of a list of numbers [45 ,3,2,89,72,1,10,7] Output: 121111200."
   ]
  },
  {
   "cell_type": "code",
   "execution_count": 11,
   "metadata": {},
   "outputs": [
    {
     "name": "stdout",
     "output_type": "stream",
     "text": [
      "multiplication of all elements:   121111200\n"
     ]
    }
   ],
   "source": [
    "l = [45,3,2,89,72,1,10,7]\n",
    "r = 1\n",
    "for i in l:\n",
    "  r*=i\n",
    "print(\"multiplication of all elements:  \",r)"
   ]
  },
  {
   "cell_type": "markdown",
   "metadata": {},
   "source": [
    "12. Compute given Num_list = [5, 6,8 ,34,89,1] to get desired output Output: Out_list=[11,14,42,123,90]."
   ]
  },
  {
   "cell_type": "code",
   "execution_count": 12,
   "metadata": {},
   "outputs": [
    {
     "name": "stdin",
     "output_type": "stream",
     "text": [
      "Enter number of elements:  5\n"
     ]
    },
    {
     "name": "stdout",
     "output_type": "stream",
     "text": [
      "enter elements: \n"
     ]
    },
    {
     "name": "stdin",
     "output_type": "stream",
     "text": [
      " 3\n",
      " 54\n",
      " 23\n",
      " 2\n",
      " 3\n"
     ]
    },
    {
     "name": "stdout",
     "output_type": "stream",
     "text": [
      "list you have entered is:  [3, 54, 23, 2, 3]\n",
      "difference list:  [57, 77, 25, 5]\n"
     ]
    }
   ],
   "source": [
    "l = []\n",
    "n = int(input('Enter number of elements: ')) \n",
    "print('enter elements: ')\n",
    "for i in range(0, n): \n",
    "    e = int(input()) \n",
    "    l.append(e)\n",
    "print('list you have entered is: ',str(l)) \n",
    "s = [] \n",
    "for i in range(1, len(l)): \n",
    "    s.append(l[i]+l[i-1]) \n",
    "print (\"difference list: \",s)"
   ]
  },
  {
   "cell_type": "markdown",
   "metadata": {},
   "source": [
    "13. Compute given Num_tuple = (5, 6,8 ,3,9,1) to get desired output Output: Out_list = [5, 30, 240, 720, 6480, 6480]."
   ]
  },
  {
   "cell_type": "code",
   "execution_count": 13,
   "metadata": {},
   "outputs": [
    {
     "name": "stdout",
     "output_type": "stream",
     "text": [
      "multiplication list of all elements is:   [5, 30, 240, 720, 6480, 6480]\n"
     ]
    }
   ],
   "source": [
    "l = (5,6,8,3,9,1)\n",
    "p = []\n",
    "r = 1\n",
    "for i in l:\n",
    "  r*=i\n",
    "  p.append(r)\n",
    "print(\"multiplication list of all elements is:  \",p)"
   ]
  },
  {
   "cell_type": "markdown",
   "metadata": {},
   "source": [
    "14. Write a Python code that takes a number and returns a list of its digits. So for 586392 it should return [5,8,6,3,9,2]."
   ]
  },
  {
   "cell_type": "code",
   "execution_count": 14,
   "metadata": {},
   "outputs": [
    {
     "name": "stdin",
     "output_type": "stream",
     "text": [
      "enter an integer:  545778798998\n"
     ]
    },
    {
     "name": "stdout",
     "output_type": "stream",
     "text": [
      "[5, 4, 5, 7, 7, 8, 7, 9, 8, 9, 9, 8]\n"
     ]
    }
   ],
   "source": [
    "n = int(input('enter an integer: '))\n",
    "s = []\n",
    "for x in str(n):\n",
    "  s.append(int(x))\n",
    "print(s)"
   ]
  },
  {
   "cell_type": "markdown",
   "metadata": {},
   "source": [
    "15. Write a program that finds the longest palindromic substring of a given string."
   ]
  },
  {
   "cell_type": "code",
   "execution_count": 15,
   "metadata": {},
   "outputs": [
    {
     "name": "stdin",
     "output_type": "stream",
     "text": [
      "enter string:   school\n"
     ]
    },
    {
     "name": "stdout",
     "output_type": "stream",
     "text": [
      "oo\n"
     ]
    }
   ],
   "source": [
    "class sub(object):\n",
    "   def lp(self, s):\n",
    "      p = [[False for i in range(len(s))] for i in range(len(s))]\n",
    "      for i in range(len(s)):\n",
    "         p[i][i] = True\n",
    "      ml = 1\n",
    "      t = 0\n",
    "      for l in range(2,len(s)+1):\n",
    "         for i in range(len(s)-l+1):\n",
    "            e = i+l\n",
    "            if l==2:\n",
    "               if s[i] == s[e-1]:\n",
    "                  p[i][e-1] = True\n",
    "                  ml = l\n",
    "                  t = i\n",
    "            else:\n",
    "               if s[i] == s[e-1] and p[i+1][e-2]:\n",
    "                  p[i][e-1]=True\n",
    "                  ml = l\n",
    "                  t = i\n",
    "      return s[t:t+ml]\n",
    "st=input(\"enter string:  \")\n",
    "ob1 = sub()\n",
    "print(ob1.lp(st))"
   ]
  },
  {
   "cell_type": "markdown",
   "metadata": {},
   "source": [
    "16. Substring Check (Bug Funny) Given two binary strings, A (of length 10) and B (of length 5), output 1 if B is a substring of A and 0 otherwise.\n",
    "First two lines of input:\n",
    "\n",
    "1010110010 10110\n",
    "\n",
    "1110111011 10011\n",
    "\n",
    "First two lines of output: 1 0"
   ]
  },
  {
   "cell_type": "code",
   "execution_count": 16,
   "metadata": {},
   "outputs": [
    {
     "name": "stdin",
     "output_type": "stream",
     "text": [
      "Enter binary string:   1010110010\n",
      "Enter binary substring:   10110\n"
     ]
    },
    {
     "name": "stdout",
     "output_type": "stream",
     "text": [
      "1\n"
     ]
    }
   ],
   "source": [
    "s = input(\"Enter binary string:  \")\n",
    "ss = input(\"Enter binary substring:  \")\n",
    "if(s.find(ss)==-1):\n",
    "      print(\"0\")\n",
    "else:\n",
    "      print(\"1\")"
   ]
  },
  {
   "cell_type": "markdown",
   "metadata": {},
   "source": [
    "17. POUR1 - Pouring water Given two vessels, one of which can accommodate a litres of water and the other - b litres of water, determine the number of steps required to obtain exactly c litres of water in one of the vessels. At the beginning both vessels are empty. The following operations are counted as 'steps':\n",
    "--> emptying a vessel,\n",
    "--> filling a vessel,\n",
    "--> pouring water from one vessel to the other, without spilling, until one of the vessels is either full or empty.\n",
    "--> Input : An integer t, 1<=t<=100, denoting the number of testcases , followed by t sets of input data, each consisting of three positive integers a, b, c, not larger than 40000, given in separate lines.\n",
    "--> Output : For each set of input data, output the minimum number of steps required to obtain c litres, or -1 if this is impossible."
   ]
  },
  {
   "cell_type": "code",
   "execution_count": 17,
   "metadata": {},
   "outputs": [
    {
     "name": "stdin",
     "output_type": "stream",
     "text": [
      "Enter no of testcases:   1\n",
      "Enter number of liters in vessel a:   2\n",
      "Enter number of liters in vessel b:   9\n",
      "Enter number of liters to be obtained:   5\n"
     ]
    },
    {
     "name": "stdout",
     "output_type": "stream",
     "text": [
      "Minimum number of steps required to fill the vessel c is:   4\n"
     ]
    }
   ],
   "source": [
    "def gcd(a,b):\n",
    "    if b==0: \n",
    "        return a \n",
    "    return gcd(b, a%b) \n",
    "def steps(a,b,c): \n",
    "    v1 = b\n",
    "    v2 = 0\n",
    "    co = 1\n",
    "    while ((v1 is not c) and (v2 is not c)): \n",
    "        t = min(v1,a-v2) \n",
    "        v2 = v2+t \n",
    "        v1 = v1-t \n",
    "        co+=1\n",
    "        if ((v2==c)or(v1==c)): \n",
    "            break\n",
    "        if v1==0: \n",
    "            v1 = b \n",
    "            co+=1\n",
    "        if v2==a: \n",
    "            v2 = 0\n",
    "            co+=1\n",
    "    return co \n",
    "def ispos(a,b,c): \n",
    "    if a>b: \n",
    "        t = a \n",
    "        a = b \n",
    "        b = t \n",
    "    if c>b: \n",
    "        return -1\n",
    "    if (c%(gcd(b,a)) is not 0): \n",
    "        return -1\n",
    "    return(min(steps(b,a,c),steps(a,b,c)))\n",
    "t=int(input(\"Enter no of testcases:  \"))\n",
    "for i in range(t):\n",
    "    a = int(input(\"Enter number of liters in vessel a:  \"))\n",
    "    b = int(input(\"Enter number of liters in vessel b:  \"))\n",
    "    c = int(input(\"Enter number of liters to be obtained:  \"))\n",
    "    print(\"Minimum number of steps required to fill the vessel c is:  \",ispos(a,b,c))"
   ]
  }
 ],
 "metadata": {
  "kernelspec": {
   "display_name": "Python 3",
   "language": "python",
   "name": "python3"
  },
  "language_info": {
   "codemirror_mode": {
    "name": "ipython",
    "version": 3
   },
   "file_extension": ".py",
   "mimetype": "text/x-python",
   "name": "python",
   "nbconvert_exporter": "python",
   "pygments_lexer": "ipython3",
   "version": "3.7.6"
  }
 },
 "nbformat": 4,
 "nbformat_minor": 4
}
